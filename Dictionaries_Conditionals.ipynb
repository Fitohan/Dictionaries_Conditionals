{
 "cells": [
  {
   "cell_type": "code",
   "execution_count": null,
   "id": "4e63b024",
   "metadata": {},
   "outputs": [],
   "source": [
    "#1.\n",
    "a=input (\"Enter value a:\")\n",
    "b=input(\"Enter  value b:\")\n",
    "c=input (\"Enter  value c:\")\n",
    "if a==b==c:\n",
    "    print (\"Equilateral triangle\")\n",
    "elif a==b or a==c or b==c:\n",
    "    print (\"Isosceles triangle\")\n",
    "else: print (\"Scalene triangle\")"
   ]
  },
  {
   "cell_type": "code",
   "execution_count": null,
   "id": "3695b31c",
   "metadata": {},
   "outputs": [],
   "source": [
    "#2.\n",
    "\n",
    "dict={\"Nigeria\": 23,\"Ghana\":40,\"Kenya\":50,\"Liberia\":65}\n",
    "key=\"Nigeria\"\n",
    "if key in dict.keys():\n",
    "    print(\"Already exists\")\n",
    "else:\n",
    "    print(\"Doesn't exists\")\n"
   ]
  },
  {
   "cell_type": "code",
   "execution_count": null,
   "id": "0e506122",
   "metadata": {},
   "outputs": [],
   "source": [
    "#3.\n",
    "dic1={\"Name\":\"Monica\",\"Location\":\"Nsukka\",\"Gender\": \"Female\", \"Age\": \"20\",\"Weight\":\"90kg\"}\n",
    "\n",
    "#i.\n",
    "dic1.pop(\"Location\")\n",
    "print(dic1)\n",
    "\n",
    "#ii\n",
    "if \"Location\" in dic1:\n",
    "    del dic1[\"Location\"]\n",
    "print(dic1)"
   ]
  },
  {
   "cell_type": "code",
   "execution_count": null,
   "id": "f475bcdb",
   "metadata": {},
   "outputs": [],
   "source": [
    "# 4.\n",
    "\n",
    "dic={\"Name\":\"Monica\",\"Location\":\"Nsukka\",\"Gender\": \"Female\", \"Age\": 20}\n",
    "dic[\"city\"]=dic.pop(\"Location\")\n",
    "print(dic)"
   ]
  },
  {
   "cell_type": "code",
   "execution_count": null,
   "id": "3151db96",
   "metadata": {},
   "outputs": [],
   "source": [
    "#5.\n",
    "details = {\n",
    "     'person1': {'name': 'Chioma', 'salary': 7500, 'age': 22},\n",
    "     'person2': {'name': 'Tosin', 'salary': 8000, 'age': 25},\n",
    "     'person3': {'name': 'Promise', 'salary': 6500, 'age': 28}\n",
    "}\n",
    "\n",
    "details2=details[\"person2\"]\n",
    "details2[\"salary\"]=9000\n",
    "print(details2)\n",
    "print(details)"
   ]
  },
  {
   "cell_type": "code",
   "execution_count": null,
   "id": "43a19618",
   "metadata": {},
   "outputs": [],
   "source": [
    "#6\n",
    "month=int(input(\"Enter the number of month:\"))\n",
    "           \n",
    "if(month==1 or month==3 or month==5 or month==7 or month==8 or month==10 or month==12):\n",
    "        print(\"31 days\")\n",
    "        \n",
    "elif (month==2):\n",
    "    print(\"28 or 29 days\")\n",
    "    \n",
    "else:\n",
    "    print(\"30days\")"
   ]
  },
  {
   "cell_type": "code",
   "execution_count": null,
   "id": "5345a233",
   "metadata": {},
   "outputs": [],
   "source": [
    "#7.\n",
    "name=\"James\"\n",
    "name= input(\"Enter user\\'s name:\")\n",
    "if name ==\"James\":\n",
    "    print (\"Welcome on board,{}.\".format(name))\n",
    "else:\n",
    "    print(\"Oops!Try again.\")\n"
   ]
  },
  {
   "cell_type": "code",
   "execution_count": null,
   "id": "3fdc501c",
   "metadata": {},
   "outputs": [],
   "source": [
    "#8.\n",
    "num =int(input (\"Enter any number:\"))\n",
    "if num %3 == 0:\n",
    "    print (\"True\")\n",
    "else:\n",
    "    print(\"False\") \n",
    "    "
   ]
  },
  {
   "cell_type": "code",
   "execution_count": null,
   "id": "3c09142e",
   "metadata": {},
   "outputs": [],
   "source": [
    "#9.\n",
    "score=int(input(\"Enter score:\" ))\n",
    "\n",
    "if score>=70:\n",
    "    print (\"Grade:A\")\n",
    "    \n",
    "elif score>=60 and score<=69:\n",
    "    print (\"Grade:B\")\n",
    "    \n",
    "elif score>=50 and score<=59:\n",
    "    print (\"Grade:C\")\n",
    "    \n",
    "elif score>=45 and score<=49:\n",
    "    print (\"Grade:D\")\n",
    "    \n",
    "elif score>=41 and score<=44:\n",
    "    print (\"Grade:E\")\n",
    "\n",
    "else:\n",
    "        print (\"Grade:F\")\n",
    "\n",
    "    "
   ]
  },
  {
   "cell_type": "code",
   "execution_count": null,
   "id": "26b11eaa",
   "metadata": {},
   "outputs": [],
   "source": [
    "#10.\n",
    "salary=int(input(\"Enter your salary: \"))\n",
    "years_of_service=int(input(\"Enter years of service: \"))\n",
    "salary_bonus = salary + (salary*(5/100))\n",
    "if years_of_service>5:\n",
    "    print (\"Your net bonus is {}\".format(salary_bonus))\n",
    "else:\n",
    "    print(\"No net bonus amount\")\n",
    "    "
   ]
  }
 ],
 "metadata": {
  "kernelspec": {
   "display_name": "Python 3",
   "language": "python",
   "name": "python3"
  },
  "language_info": {
   "codemirror_mode": {
    "name": "ipython",
    "version": 3
   },
   "file_extension": ".py",
   "mimetype": "text/x-python",
   "name": "python",
   "nbconvert_exporter": "python",
   "pygments_lexer": "ipython3",
   "version": "3.8.8"
  }
 },
 "nbformat": 4,
 "nbformat_minor": 5
}
